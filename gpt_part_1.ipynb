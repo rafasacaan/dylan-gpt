{
 "cells": [
  {
   "cell_type": "markdown",
   "id": "50462d63-d00d-4b0b-9bb1-ad9cfdd4ea96",
   "metadata": {},
   "source": [
    "# Build GPT part 1"
   ]
  },
  {
   "cell_type": "markdown",
   "id": "62067514-b829-4a80-b9ef-c933cad02cf9",
   "metadata": {},
   "source": [
    "### I. Load raw data"
   ]
  },
  {
   "cell_type": "code",
   "execution_count": 5,
   "id": "10215a34-72ef-4618-97b6-f7ff7350edea",
   "metadata": {},
   "outputs": [
    {
     "name": "stdout",
     "output_type": "stream",
     "text": [
      "--2023-07-31 13:34:04--  https://raw.githubusercontent.com/karpathy/char-rnn/master/data/tinyshakespeare/input.txt\n",
      "Resolving raw.githubusercontent.com (raw.githubusercontent.com)... 185.199.108.133, 185.199.109.133, 185.199.110.133, ...\n",
      "Connecting to raw.githubusercontent.com (raw.githubusercontent.com)|185.199.108.133|:443... connected.\n",
      "HTTP request sent, awaiting response... 200 OK\n",
      "Length: 1115394 (1.1M) [text/plain]\n",
      "Saving to: ‘input.txt’\n",
      "\n",
      "input.txt           100%[===================>]   1.06M  6.87MB/s    in 0.2s    \n",
      "\n",
      "2023-07-31 13:34:05 (6.87 MB/s) - ‘input.txt’ saved [1115394/1115394]\n",
      "\n"
     ]
    }
   ],
   "source": [
    "# We always start with a dataset to train on. \n",
    "# Let's download the tiny shakespeare dataset\n",
    "\n",
    "!wget https://raw.githubusercontent.com/karpathy/char-rnn/master/data/tinyshakespeare/input.txt"
   ]
  },
  {
   "cell_type": "code",
   "execution_count": 6,
   "id": "812811e8-5e68-4a32-9934-034e14bc6fd4",
   "metadata": {},
   "outputs": [],
   "source": [
    "# read it in to inspect it\n",
    "with open('input.txt', 'r', encoding='utf-8') as f:\n",
    "    text = f.read()"
   ]
  },
  {
   "cell_type": "code",
   "execution_count": 7,
   "id": "3887802d-c1ad-4396-960d-3d21c1d3e314",
   "metadata": {},
   "outputs": [
    {
     "name": "stdout",
     "output_type": "stream",
     "text": [
      "length of dataset in characters:  1115394\n"
     ]
    }
   ],
   "source": [
    "print(\"length of dataset in characters: \", len(text))"
   ]
  },
  {
   "cell_type": "code",
   "execution_count": 10,
   "id": "0f0d68df-233a-4ec5-b122-65a8cd67d9a2",
   "metadata": {},
   "outputs": [
    {
     "name": "stdout",
     "output_type": "stream",
     "text": [
      "First Citizen:\n",
      "Before we proceed any further, hear me speak.\n",
      "\n",
      "All:\n",
      "Speak, speak.\n",
      "\n",
      "First Citizen:\n",
      "You\n"
     ]
    }
   ],
   "source": [
    "# let's look at the first 1000 characters\n",
    "print(text[:100])"
   ]
  },
  {
   "cell_type": "code",
   "execution_count": 11,
   "id": "585cd828-5956-49b4-923c-7f00707d7488",
   "metadata": {},
   "outputs": [
    {
     "name": "stdout",
     "output_type": "stream",
     "text": [
      "\n",
      " !$&',-.3:;?ABCDEFGHIJKLMNOPQRSTUVWXYZabcdefghijklmnopqrstuvwxyz\n",
      "65\n"
     ]
    }
   ],
   "source": [
    "# here are all the unique characters that occur in this text\n",
    "chars = sorted(list(set(text)))\n",
    "vocab_size = len(chars)\n",
    "print(''.join(chars))\n",
    "print(vocab_size)"
   ]
  },
  {
   "cell_type": "markdown",
   "id": "567413b9-ac88-4973-9dd1-2c73ecf79a68",
   "metadata": {},
   "source": [
    "### 2. Tokenize"
   ]
  },
  {
   "cell_type": "code",
   "execution_count": 13,
   "id": "17084c2e-b7bc-4968-a2c8-5caf143ae22f",
   "metadata": {},
   "outputs": [
    {
     "name": "stdout",
     "output_type": "stream",
     "text": [
      "[46, 47, 47, 1, 58, 46, 43, 56, 43]\n",
      "hii there\n"
     ]
    }
   ],
   "source": [
    "# create a simple tokenizer\n",
    "stoi = { ch:i for i,ch in enumerate(chars) }\n",
    "itos = { i:ch for i,ch in enumerate(chars) }\n",
    "encode = lambda s: [stoi[c] for c in s] # encoder: take a string, output a list of integers\n",
    "decode = lambda l: ''.join([itos[i] for i in l]) # decoder: take a list of integers, output a string\n",
    "\n",
    "print(encode(\"hii there\"))\n",
    "print(decode(encode(\"hii there\")))"
   ]
  },
  {
   "cell_type": "markdown",
   "id": "c2171dfa-16f1-4d5e-944c-79bfff953384",
   "metadata": {},
   "source": [
    "**Note** Tokenization methods to try (sub-words is usually chosen):\n",
    "- try senterpiece by google\n",
    "- try tiktoken from openai"
   ]
  },
  {
   "cell_type": "code",
   "execution_count": 16,
   "id": "a7fce2e3-5f9a-4082-88cd-02f9273de9d8",
   "metadata": {},
   "outputs": [
    {
     "name": "stdout",
     "output_type": "stream",
     "text": [
      "torch.Size([1115394]) <built-in method type of Tensor object at 0x16479b090>\n",
      "tensor([18, 47, 56, 57, 58,  1, 15, 47, 58, 47, 64, 43, 52, 10,  0, 14, 43, 44,\n",
      "        53, 56, 43,  1, 61, 43,  1, 54, 56, 53, 41, 43, 43, 42,  1, 39, 52, 63,\n",
      "         1, 44, 59, 56, 58, 46, 43, 56,  6,  1, 46, 43, 39, 56,  1, 51, 43,  1,\n",
      "        57, 54, 43, 39, 49,  8,  0,  0, 13, 50, 50, 10,  0, 31, 54, 43, 39, 49,\n",
      "         6,  1, 57, 54, 43, 39, 49,  8,  0,  0, 18, 47, 56, 57, 58,  1, 15, 47,\n",
      "        58, 47, 64, 43, 52, 10,  0, 37, 53, 59])\n"
     ]
    }
   ],
   "source": [
    "import torch\n",
    "\n",
    "data = torch.tensor(encode(text), dtype=torch.long)\n",
    "print(data.shape, data.type)\n",
    "print(data[:100])"
   ]
  },
  {
   "cell_type": "markdown",
   "id": "7ed36c75-bf53-42bc-b89d-7a03719345cc",
   "metadata": {},
   "source": [
    "### 3. Inputs"
   ]
  },
  {
   "cell_type": "code",
   "execution_count": 17,
   "id": "8350a1c2-e1b4-4d39-86d2-d30f0bc53817",
   "metadata": {},
   "outputs": [],
   "source": [
    "# split the data\n",
    "\n",
    "n = int(0.9 * len(data))\n",
    "train_data = data[:n]\n",
    "val_data = data[n:]"
   ]
  },
  {
   "cell_type": "code",
   "execution_count": 18,
   "id": "628b892a-aacd-4b23-9c71-0d38adf2be1a",
   "metadata": {},
   "outputs": [
    {
     "data": {
      "text/plain": [
       "tensor([18, 47, 56, 57, 58,  1, 15, 47, 58])"
      ]
     },
     "execution_count": 18,
     "metadata": {},
     "output_type": "execute_result"
    }
   ],
   "source": [
    "block_size = 8\n",
    "train_data[:block_size + 1]"
   ]
  },
  {
   "cell_type": "markdown",
   "id": "49347029-f772-458d-adfb-9d2cf61c5e74",
   "metadata": {},
   "source": [
    "**dim1**: We have 8 different \"hidden\" examples in each x/y pair."
   ]
  },
  {
   "cell_type": "code",
   "execution_count": 19,
   "id": "82b3fbe9-aee6-4821-b083-4271c43e6e31",
   "metadata": {},
   "outputs": [
    {
     "name": "stdout",
     "output_type": "stream",
     "text": [
      "when input is tensor([18]) the target: 47\n",
      "when input is tensor([18, 47]) the target: 56\n",
      "when input is tensor([18, 47, 56]) the target: 57\n",
      "when input is tensor([18, 47, 56, 57]) the target: 58\n",
      "when input is tensor([18, 47, 56, 57, 58]) the target: 1\n",
      "when input is tensor([18, 47, 56, 57, 58,  1]) the target: 15\n",
      "when input is tensor([18, 47, 56, 57, 58,  1, 15]) the target: 47\n",
      "when input is tensor([18, 47, 56, 57, 58,  1, 15, 47]) the target: 58\n"
     ]
    }
   ],
   "source": [
    "x = train_data[:block_size]\n",
    "y = train_data[1:block_size+1]\n",
    "\n",
    "for t in range(block_size):\n",
    "    context = x[:t+1]\n",
    "    target = y[t]\n",
    "    print(f\"when input is {context} the target: {target}\")"
   ]
  },
  {
   "cell_type": "markdown",
   "id": "e87ad1d4-ad35-46ab-adc7-d5e6537bb549",
   "metadata": {},
   "source": [
    "**dim2**: The next dimension of our input is each **batch**"
   ]
  },
  {
   "cell_type": "code",
   "execution_count": 43,
   "id": "6611533c-2564-40c6-82a7-d99f2a83586b",
   "metadata": {},
   "outputs": [],
   "source": [
    "torch.manual_seed(1337)\n",
    "\n",
    "batch_size = 4 # how many independent sequences will we process in parallel?\n",
    "block_size = 8 # what is the maximum context length for predictions?\n",
    "\n",
    "def get_batch(split):\n",
    "    # generate a small batch of data of inputs x \n",
    "    # and targets y\n",
    "    data = train_data if split == 'train' else val_data\n",
    "    ix = torch.randint(\n",
    "        low=0, \n",
    "        high=len(data) - block_size, \n",
    "        size=(batch_size,))\n",
    "\n",
    "    # get the context for each index, and stack it into\n",
    "    # rows.\n",
    "    x = torch.stack([data[i:i+block_size] for i in ix])\n",
    "    y = torch.stack([data[i+1:i+block_size+1] for i in ix])\n",
    "    return x, y"
   ]
  },
  {
   "cell_type": "markdown",
   "id": "b90eb901-a073-4d95-8374-6a04835f7435",
   "metadata": {},
   "source": [
    "**Example**"
   ]
  },
  {
   "cell_type": "code",
   "execution_count": 44,
   "id": "f19ff509-9c1c-46e4-b745-31354debf7be",
   "metadata": {},
   "outputs": [
    {
     "name": "stdout",
     "output_type": "stream",
     "text": [
      "inputs:\n",
      "torch.Size([4, 8])\n",
      "tensor([[24, 43, 58,  5, 57,  1, 46, 43],\n",
      "        [44, 53, 56,  1, 58, 46, 39, 58],\n",
      "        [52, 58,  1, 58, 46, 39, 58,  1],\n",
      "        [25, 17, 27, 10,  0, 21,  1, 54]])\n",
      "targets:\n",
      "torch.Size([4, 8])\n",
      "tensor([[43, 58,  5, 57,  1, 46, 43, 39],\n",
      "        [53, 56,  1, 58, 46, 39, 58,  1],\n",
      "        [58,  1, 58, 46, 39, 58,  1, 46],\n",
      "        [17, 27, 10,  0, 21,  1, 54, 39]])\n",
      "----\n",
      "when input is [24] the target: 43\n",
      "when input is [24, 43] the target: 58\n",
      "when input is [24, 43, 58] the target: 5\n",
      "when input is [24, 43, 58, 5] the target: 57\n",
      "when input is [24, 43, 58, 5, 57] the target: 1\n",
      "when input is [24, 43, 58, 5, 57, 1] the target: 46\n",
      "when input is [24, 43, 58, 5, 57, 1, 46] the target: 43\n",
      "when input is [24, 43, 58, 5, 57, 1, 46, 43] the target: 39\n",
      "when input is [44] the target: 53\n",
      "when input is [44, 53] the target: 56\n",
      "when input is [44, 53, 56] the target: 1\n",
      "when input is [44, 53, 56, 1] the target: 58\n",
      "when input is [44, 53, 56, 1, 58] the target: 46\n",
      "when input is [44, 53, 56, 1, 58, 46] the target: 39\n",
      "when input is [44, 53, 56, 1, 58, 46, 39] the target: 58\n",
      "when input is [44, 53, 56, 1, 58, 46, 39, 58] the target: 1\n",
      "when input is [52] the target: 58\n",
      "when input is [52, 58] the target: 1\n",
      "when input is [52, 58, 1] the target: 58\n",
      "when input is [52, 58, 1, 58] the target: 46\n",
      "when input is [52, 58, 1, 58, 46] the target: 39\n",
      "when input is [52, 58, 1, 58, 46, 39] the target: 58\n",
      "when input is [52, 58, 1, 58, 46, 39, 58] the target: 1\n",
      "when input is [52, 58, 1, 58, 46, 39, 58, 1] the target: 46\n",
      "when input is [25] the target: 17\n",
      "when input is [25, 17] the target: 27\n",
      "when input is [25, 17, 27] the target: 10\n",
      "when input is [25, 17, 27, 10] the target: 0\n",
      "when input is [25, 17, 27, 10, 0] the target: 21\n",
      "when input is [25, 17, 27, 10, 0, 21] the target: 1\n",
      "when input is [25, 17, 27, 10, 0, 21, 1] the target: 54\n",
      "when input is [25, 17, 27, 10, 0, 21, 1, 54] the target: 39\n"
     ]
    }
   ],
   "source": [
    "xb, yb = get_batch('train')\n",
    "print('inputs:')\n",
    "print(xb.shape)\n",
    "print(xb)\n",
    "print('targets:')\n",
    "print(yb.shape)\n",
    "print(yb)\n",
    "\n",
    "print('----')\n",
    "\n",
    "for b in range(batch_size): # batch dimension\n",
    "    for t in range(block_size): # time dimension\n",
    "        context = xb[b, :t+1]\n",
    "        target = yb[b,t]\n",
    "        print(f\"when input is {context.tolist()} the target: {target}\")\n",
    "        "
   ]
  },
  {
   "cell_type": "markdown",
   "id": "aa95a694-a80d-4a25-9083-91490529423a",
   "metadata": {},
   "source": [
    "This is our **input** to the transformer"
   ]
  },
  {
   "cell_type": "code",
   "execution_count": 70,
   "id": "4b1eec1a-5e28-46ce-b7b8-aec3fba6d4ab",
   "metadata": {},
   "outputs": [
    {
     "data": {
      "text/plain": [
       "tensor([[24, 43, 58,  5, 57,  1, 46, 43],\n",
       "        [44, 53, 56,  1, 58, 46, 39, 58],\n",
       "        [52, 58,  1, 58, 46, 39, 58,  1],\n",
       "        [25, 17, 27, 10,  0, 21,  1, 54]])"
      ]
     },
     "execution_count": 70,
     "metadata": {},
     "output_type": "execute_result"
    }
   ],
   "source": [
    "xb"
   ]
  },
  {
   "cell_type": "code",
   "execution_count": 62,
   "id": "2ca39ed7-c326-4a84-b26d-7a4f2d37c481",
   "metadata": {},
   "outputs": [
    {
     "data": {
      "text/plain": [
       "tensor([[43, 58,  5, 57,  1, 46, 43, 39],\n",
       "        [53, 56,  1, 58, 46, 39, 58,  1],\n",
       "        [58,  1, 58, 46, 39, 58,  1, 46],\n",
       "        [17, 27, 10,  0, 21,  1, 54, 39]])"
      ]
     },
     "execution_count": 62,
     "metadata": {},
     "output_type": "execute_result"
    }
   ],
   "source": [
    "yb"
   ]
  },
  {
   "cell_type": "markdown",
   "id": "980d01d2-5cd3-42d8-9255-75a35d72281e",
   "metadata": {},
   "source": [
    "### 4. Baseline Model: Bi-grams "
   ]
  },
  {
   "cell_type": "code",
   "execution_count": 119,
   "id": "340dddf2-16b4-4fbc-b044-b98513cbd88f",
   "metadata": {},
   "outputs": [],
   "source": [
    "import torch \n",
    "import torch.nn as nn\n",
    "from torch.nn import functional as F\n",
    "torch.manual_seed(1337)\n",
    "\n",
    "\n",
    "class BigramLanguageModel(nn.Module):\n",
    "\n",
    "    def __init__(self, vocab_size):\n",
    "        # each token directly reads off the logits for the next token \n",
    "        # from a look-up table.\n",
    "        super().__init__()\n",
    "        self.token_embedding_table = nn.Embedding(vocab_size, vocab_size)\n",
    "\n",
    "    def forward(self, idx, targets=None):\n",
    "        # idx and targets are both (B, T) tensor of integers\n",
    "        # remember we have 8 examples for each row in X\n",
    "        \n",
    "        # reminder: (B, T, C) = (batch, time, channel)\n",
    "        logits = self.token_embedding_table(idx) # -> (B, T, C)\n",
    "\n",
    "        if targets is None:\n",
    "            loss = None\n",
    "        else:\n",
    "            # cross entropy requires a (B, C, T) shape\n",
    "            B, T, C = logits.shape\n",
    "            logits = logits.view(B*T, C)\n",
    "            targets = targets.view(B*T)\n",
    "            loss = F.cross_entropy(logits, targets) \n",
    "        return logits, loss\n",
    "\n",
    "    def generate(self, idx, max_new_tokens):\n",
    "        # idx is (B, T) array of indices in the current context\n",
    "        for _ in range(max_new_tokens):\n",
    "            # get predictions\n",
    "            logits, loss = self(idx)\n",
    "    \n",
    "            # focus only on the last time step \n",
    "            # i.e. last token in sequence\n",
    "            logits = logits[:, -1, :] # becomes (B, C)\n",
    "\n",
    "            # apply softmax to get probabilities\n",
    "            probs = F.softmax(logits, dim=-1) # (B, C)\n",
    "\n",
    "            # sample from the distribution\n",
    "            idx_next = torch.multinomial(probs, num_samples=1) # (B, 1)\n",
    "\n",
    "            # append sampled index to running sequence\n",
    "            idx = torch.cat((idx, idx_next), dim=1) # (B, T+1)\n",
    "        return idx"
   ]
  },
  {
   "cell_type": "code",
   "execution_count": 133,
   "id": "584e44b9-fee3-4a0d-a874-a7b8a781e52b",
   "metadata": {},
   "outputs": [
    {
     "name": "stdout",
     "output_type": "stream",
     "text": [
      "torch.Size([256, 65])\n",
      "tensor(4.5071, grad_fn=<NllLossBackward0>)\n"
     ]
    }
   ],
   "source": [
    "m = BigramLanguageModel(vocab_size)\n",
    "logits, loss = m(xb, yb)\n",
    "print(logits.shape)\n",
    "print(loss)"
   ]
  },
  {
   "cell_type": "code",
   "execution_count": 134,
   "id": "5fc56d85-d8ad-4509-9ee7-367376dade82",
   "metadata": {},
   "outputs": [],
   "source": [
    "# we expect a logloss of -ln(1/65) = 4.174\n",
    "# we got a logloss of 4.876, meaning that theres is entropy across our\n",
    "# initial values (i.e. not uniform distribution)"
   ]
  },
  {
   "cell_type": "code",
   "execution_count": 135,
   "id": "962b60be-0a1b-4010-a6d1-bbb778fd154d",
   "metadata": {},
   "outputs": [
    {
     "data": {
      "text/plain": [
       "65"
      ]
     },
     "execution_count": 135,
     "metadata": {},
     "output_type": "execute_result"
    }
   ],
   "source": [
    "vocab_size"
   ]
  },
  {
   "cell_type": "code",
   "execution_count": 136,
   "id": "7b8af6b8-e0f8-4f1d-903b-aa3a2717c13f",
   "metadata": {},
   "outputs": [
    {
     "data": {
      "text/plain": [
       "tensor([[58,  1, 44, 47, 56, 57, 58,  6],\n",
       "        [46, 53, 59,  1, 39, 56, 58,  1],\n",
       "        [50, 43, 43, 42, 47, 52, 45,  6],\n",
       "        [46, 43,  1, 61, 39, 57,  1, 50],\n",
       "        [56, 47, 58, 39, 40, 50, 43,  1],\n",
       "        [52, 42,  1, 58, 46, 43, 56, 43],\n",
       "        [50, 43, 51, 39, 52, 11,  0, 13],\n",
       "        [43,  1, 56, 43, 57, 58, 53, 56],\n",
       "        [31, 10,  0, 32, 46, 47, 57,  1],\n",
       "        [32, 21, 27, 10,  0, 25, 53, 56],\n",
       "        [53, 46, 52,  1, 53, 44,  1, 19],\n",
       "        [44, 39, 56,  1, 58, 46, 39, 58],\n",
       "        [30, 17, 26, 15, 17, 10,  0, 32],\n",
       "        [51, 43,  6,  1, 39, 52, 42,  1],\n",
       "        [56,  8,  0,  0, 19, 24, 27, 33],\n",
       "        [47, 52,  1, 58, 46, 47, 57, 12],\n",
       "        [50, 50,  1, 50, 43, 58,  1, 58],\n",
       "        [43, 43,  2,  0,  0, 19, 24, 27],\n",
       "        [44,  1, 39,  1, 40, 39, 61, 42],\n",
       "        [17, 42, 61, 39, 56, 42,  6,  0],\n",
       "        [ 1, 39, 50, 50,  1, 51, 63,  1],\n",
       "        [ 1, 21,  1, 42, 53,  1, 56, 43],\n",
       "        [39, 47, 42,  1, 61, 43, 50, 50],\n",
       "        [52, 45,  0, 35, 46, 43, 56, 43],\n",
       "        [53, 54, 43,  1, 58, 53,  1, 46],\n",
       "        [53, 52,  0, 58, 46, 43,  1, 50],\n",
       "        [ 1, 58, 46, 43, 51,  1, 47, 52],\n",
       "        [61, 39, 56, 50, 47, 49, 43,  1],\n",
       "        [ 1, 46, 39, 52, 45, 47, 52, 45],\n",
       "        [ 6,  1, 58, 53, 53, 49,  1, 47],\n",
       "        [47, 42, 57,  1, 61, 39, 63, 11],\n",
       "        [ 1, 44, 53, 56, 58, 46,  1, 58]])"
      ]
     },
     "execution_count": 136,
     "metadata": {},
     "output_type": "execute_result"
    }
   ],
   "source": [
    "xb"
   ]
  },
  {
   "cell_type": "code",
   "execution_count": 137,
   "id": "aacc30d5-ce8f-42b3-b181-1cf537baedcd",
   "metadata": {},
   "outputs": [
    {
     "data": {
      "text/plain": [
       "tensor([[ 1, 44, 47, 56, 57, 58,  6,  1],\n",
       "        [53, 59,  1, 39, 56, 58,  1, 54],\n",
       "        [43, 43, 42, 47, 52, 45,  6,  1],\n",
       "        [43,  1, 61, 39, 57,  1, 50, 47],\n",
       "        [47, 58, 39, 40, 50, 43,  1, 42],\n",
       "        [42,  1, 58, 46, 43, 56, 43,  1],\n",
       "        [43, 51, 39, 52, 11,  0, 13, 52],\n",
       "        [ 1, 56, 43, 57, 58, 53, 56, 43],\n",
       "        [10,  0, 32, 46, 47, 57,  1, 42],\n",
       "        [21, 27, 10,  0, 25, 53, 56, 43],\n",
       "        [46, 52,  1, 53, 44,  1, 19, 39],\n",
       "        [39, 56,  1, 58, 46, 39, 58,  1],\n",
       "        [17, 26, 15, 17, 10,  0, 32, 46],\n",
       "        [43,  6,  1, 39, 52, 42,  1, 58],\n",
       "        [ 8,  0,  0, 19, 24, 27, 33, 15],\n",
       "        [52,  1, 58, 46, 47, 57, 12,  0],\n",
       "        [50,  1, 50, 43, 58,  1, 58, 46],\n",
       "        [43,  2,  0,  0, 19, 24, 27, 33],\n",
       "        [ 1, 39,  1, 40, 39, 61, 42, 10],\n",
       "        [42, 61, 39, 56, 42,  6,  0, 37],\n",
       "        [39, 50, 50,  1, 51, 63,  1, 46],\n",
       "        [21,  1, 42, 53,  1, 56, 43, 44],\n",
       "        [47, 42,  1, 61, 43, 50, 50, 12],\n",
       "        [45,  0, 35, 46, 43, 56, 43,  1],\n",
       "        [54, 43,  1, 58, 53,  1, 46, 39],\n",
       "        [52,  0, 58, 46, 43,  1, 50, 47],\n",
       "        [58, 46, 43, 51,  1, 47, 52,  1],\n",
       "        [39, 56, 50, 47, 49, 43,  1, 57],\n",
       "        [46, 39, 52, 45, 47, 52, 45,  1],\n",
       "        [ 1, 58, 53, 53, 49,  1, 47, 58],\n",
       "        [42, 57,  1, 61, 39, 63, 11,  0],\n",
       "        [44, 53, 56, 58, 46,  1, 58, 46]])"
      ]
     },
     "execution_count": 137,
     "metadata": {},
     "output_type": "execute_result"
    }
   ],
   "source": [
    "yb"
   ]
  },
  {
   "cell_type": "code",
   "execution_count": 138,
   "id": "6a9960b8-d610-48f7-8d46-b4e9e0a5f2fb",
   "metadata": {},
   "outputs": [
    {
     "data": {
      "text/plain": [
       "\"\\nSGu \\nxXT.cksv\\nK;EhGw'AWhwbcSzIQEYwBbcZEAPZH'x?B!c;QJjPvpKT3Tb-wb:NuFyoUW\\nKhmM:TYxSfB&Cwlhb!r.nFhuie&\""
      ]
     },
     "execution_count": 138,
     "metadata": {},
     "output_type": "execute_result"
    }
   ],
   "source": [
    "# generate an output\n",
    "idx = torch.zeros((1,1), dtype=torch.long) # (B, T)\n",
    "\n",
    "# look at first item in batch\n",
    "decode(m.generate(idx, max_new_tokens=100)[0].tolist())"
   ]
  },
  {
   "cell_type": "markdown",
   "id": "58015287-17cd-49c7-8a39-414849bd4f60",
   "metadata": {},
   "source": [
    "### 5. Train"
   ]
  },
  {
   "cell_type": "code",
   "execution_count": 139,
   "id": "240385e7-1b56-4d79-bf70-51c7ed4726f6",
   "metadata": {},
   "outputs": [],
   "source": [
    "# create a pytorch optimizer\n",
    "optimizer = torch.optim.AdamW(m.parameters(), lr=1e-3)"
   ]
  },
  {
   "cell_type": "code",
   "execution_count": 140,
   "id": "569bf7fb-079c-4ece-85d0-367f84d87c8f",
   "metadata": {},
   "outputs": [
    {
     "name": "stdout",
     "output_type": "stream",
     "text": [
      "2.3780767917633057\n"
     ]
    }
   ],
   "source": [
    "# training loop\n",
    "batch_size = 32\n",
    "\n",
    "for steps in range(10000):\n",
    "\n",
    "    # sample a batch of data\n",
    "    xb, yb = get_batch('train')\n",
    "\n",
    "    # evaluate loss\n",
    "    logits, loss = m(xb, yb)\n",
    "    optimizer.zero_grad(set_to_none=True)\n",
    "    loss.backward()\n",
    "    optimizer.step()\n",
    "\n",
    "print(loss.item())    "
   ]
  },
  {
   "cell_type": "code",
   "execution_count": 146,
   "id": "5054cc75-d732-4efb-87c0-334dac2e06ac",
   "metadata": {},
   "outputs": [
    {
     "name": "stdout",
     "output_type": "stream",
     "text": [
      "\n",
      "\n",
      "K:\n",
      "\n",
      "AULUGLu yeringreadedon, t ch r serosbloichy f me! p mis. thas Se.\n",
      "Witourans ue d cthemad,\n",
      "\n",
      "EScou.\n",
      "G med weratt,\n",
      "TUCKETht, merisurthaIARe hioune dwercoe,\n",
      "TCIOUSou, in adl.\n",
      "The my seaves merro we man byoowerejWeel ber titd ore y f covone s d:\n",
      "Wruge ace s quld hayofourerost hary;\n",
      "ossthathe KI bungrs it\n",
      "Weofs to bup t.\n",
      "Onte to wangotulleentulil me fuHAngrt he wem,\n",
      "Wind, fe d lthas as norrl ad bh he; kit myowellell LOf d t gnghorthame mace:\n",
      "\n",
      "Touinsoudonthtoopastrsthithound Tham.\n",
      "Fiom no s; fat i\n"
     ]
    }
   ],
   "source": [
    "# generate an output\n",
    "idx = torch.zeros((1,1), dtype=torch.long) # (B, T)\n",
    "\n",
    "# look at first item in batch\n",
    "print(decode(m.generate(idx, max_new_tokens=500)[0].tolist()))"
   ]
  },
  {
   "cell_type": "code",
   "execution_count": null,
   "id": "3b7d2616-1c8f-4034-b179-808f248f83b8",
   "metadata": {},
   "outputs": [],
   "source": []
  }
 ],
 "metadata": {
  "kernelspec": {
   "display_name": "ml-torch",
   "language": "python",
   "name": "ml-torch"
  },
  "language_info": {
   "codemirror_mode": {
    "name": "ipython",
    "version": 3
   },
   "file_extension": ".py",
   "mimetype": "text/x-python",
   "name": "python",
   "nbconvert_exporter": "python",
   "pygments_lexer": "ipython3",
   "version": "3.9.16"
  }
 },
 "nbformat": 4,
 "nbformat_minor": 5
}
